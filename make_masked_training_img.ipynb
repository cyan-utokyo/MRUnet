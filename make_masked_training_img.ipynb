{
 "cells": [
  {
   "cell_type": "code",
   "execution_count": 56,
   "metadata": {},
   "outputs": [],
   "source": [
    "#import pydicom \n",
    "import numpy\n",
    "import matplotlib.pyplot as plt\n",
    "import seaborn as sns\n",
    "import scipy as sp\n",
    "import glob \n",
    "import cv2\n",
    "from skimage import io\n",
    "import os\n",
    "from skimage.color import rgb2hsv, rgb2gray\n",
    "from skimage.morphology import skeletonize\n",
    "import copy\n",
    "from skimage import measure\n",
    "import matplotlib.pyplot as plt\n",
    "import numpy as np\n",
    "from mpl_toolkits.mplot3d import Axes3D\n",
    "from mpl_toolkits.mplot3d.art3d import Poly3DCollection\n",
    "from scipy.spatial.distance import directed_hausdorff\n",
    "import math\n",
    "\n",
    "def mkdir(super_path,testname):\n",
    "    #dir_path = test_dir_path+\"{}\\\\\".format(testname)\n",
    "    dir_path = super_path+\"{}/\".format(testname)\n",
    "    if os.path.exists(dir_path)==False:\n",
    "        print(\"making new directory {}...\".format(dir_path))\n",
    "        os.mkdir(dir_path)\n",
    "    else:\n",
    "        print(\"generating in directory {}...\".format(dir_path))\n",
    "    return dir_path\n",
    "\n",
    "def read_a_ct(img_path,raw_or_seg=\"raw\",bi=0):\n",
    "    #img = io.imread(img_path)\n",
    "    img = cv2.imread(img_path)\n",
    "    if raw_or_seg ==\"raw\":\n",
    "        #if bi == 1:\n",
    "            #img = cv2.bilateralFilter(img, 15, 20, 30)\n",
    "            #img = cv2.bilateralFilter(img, 15, 20, 30)\n",
    "        #img = cv2.bilateralFilter(img, 15, 20, 20)\n",
    "        img = cv2.cvtColor(img, cv2.COLOR_RGB2GRAY)\n",
    "        #print \"becase it is a raw, turn img.shape into: \",img.shape\n",
    "    elif raw_or_seg == \"segmentation\":\n",
    "        img = cut_mask(img)\n",
    "    return img\n",
    "\n",
    "\n",
    "def cut_mask(seg):\n",
    "    seg = rgb2hsv(seg)\n",
    "    mask = seg[:,:,1]\n",
    "    return mask\n",
    "\n",
    "def get_img_list(case_list):# original:(rootpath)\n",
    "    #case_list = glob.glob(root_path+\"*/\")\n",
    "    raw_dir_list = []\n",
    "    seg_dir_list = []\n",
    "    for m in range(len(case_list)):\n",
    "        #if os.path.exists(case_list[m]+\"norm_seg/\"): # norm: only for size.\n",
    "            #raw_dir_name = \"norm_raw/\"\n",
    "            #seg_dir_name = \"norm_seg/\"\n",
    "            #print (\"norm_raw exist!!\")\n",
    "        #else:\n",
    "        raw_dir_name = \"raw/\"\n",
    "        seg_dir_name = \"segmentation/\"\n",
    "        raw_dir_list.append(raw_dir_name)\n",
    "        seg_dir_list.append(seg_dir_name)\n",
    "    seg_all = []\n",
    "    raw_all = []\n",
    "    for i in range(len(case_list)):\n",
    "        seg_all += glob.glob(case_list[i]+seg_dir_list[i]+\"*.bmp\")\n",
    "    seg_all = sorted(seg_all)\n",
    "    for j in range(len(seg_all)):\n",
    "        raw_path = seg_all[j].replace('segmentation','raw')\n",
    "        raw_path = raw_path.replace('norm_seg','norm_raw')\n",
    "        raw_all.append(raw_path)\n",
    "    return raw_all, seg_all # path, eg.:home/chen/material/CT/cas2_post/raw(segmentation)/z0500.bmp"
   ]
  },
  {
   "cell_type": "code",
   "execution_count": 64,
   "metadata": {},
   "outputs": [
    {
     "name": "stdout",
     "output_type": "stream",
     "text": [
      "mcs1_post\n",
      "388\n"
     ]
    },
    {
     "data": {
      "text/plain": [
       "'\\nraw_img = []\\nseg_img = []\\n\\nfor i in range(len(seg_all)):\\n    raw_img.append(read_a_ct(raw_all[i],\"raw\"))\\n    seg_img.append(read_a_ct(seg_all[i],\"segmentation\"))\\n\\nraw_img = np.array(raw_img)\\nseg_img = np.array(seg_img)\\n                   \\nprint (raw_img.shape, seg_img.shape)'"
      ]
     },
     "execution_count": 64,
     "metadata": {},
     "output_type": "execute_result"
    }
   ],
   "source": [
    "a = glob.glob(\"/home/chen/unet/materials/CT*/*/\")\n",
    "# print (a)\n",
    "temp_case = a[0]\n",
    "raw_all, seg_all = get_img_list([temp_case])\n",
    "\n",
    "seg_case_name = temp_case.split(\"/\")[6]\n",
    "print (seg_case_name)\n",
    "\n",
    "init_img = sorted(glob.glob(temp_case + \"segmentation/*.bmp\"))[0].split(\"/\")[-1]\n",
    "init_img = int(init_img[1:5])\n",
    "print (init_img)\n",
    "\n",
    "#\n",
    "\"\"\"\n",
    "raw_img = []\n",
    "seg_img = []\n",
    "\n",
    "for i in range(len(seg_all)):\n",
    "    raw_img.append(read_a_ct(raw_all[i],\"raw\"))\n",
    "    seg_img.append(read_a_ct(seg_all[i],\"segmentation\"))\n",
    "\n",
    "raw_img = np.array(raw_img)\n",
    "seg_img = np.array(seg_img)\n",
    "                   \n",
    "print (raw_img.shape, seg_img.shape)\"\"\""
   ]
  },
  {
   "cell_type": "code",
   "execution_count": 58,
   "metadata": {},
   "outputs": [
    {
     "name": "stdout",
     "output_type": "stream",
     "text": [
      "There are 24577 cubes in total but only 360 of them contain arteries, in seg_img(target)\n",
      "making new directory /home/chen/unet/material_msk/mcs1_post/...\n"
     ]
    },
    {
     "ename": "PermissionError",
     "evalue": "[Errno 13] Permission denied: '/home/chen/unet/material_msk/mcs1_post/'",
     "output_type": "error",
     "traceback": [
      "\u001b[0;31m---------------------------------------------------------------------------\u001b[0m",
      "\u001b[0;31mPermissionError\u001b[0m                           Traceback (most recent call last)",
      "\u001b[0;32m<ipython-input-58-177744271102>\u001b[0m in \u001b[0;36m<module>\u001b[0;34m\u001b[0m\n\u001b[1;32m     31\u001b[0m \u001b[0;34m\u001b[0m\u001b[0m\n\u001b[1;32m     32\u001b[0m \u001b[0;31m#save masked manual segmentation\u001b[0m\u001b[0;34m\u001b[0m\u001b[0;34m\u001b[0m\u001b[0;34m\u001b[0m\u001b[0m\n\u001b[0;32m---> 33\u001b[0;31m \u001b[0msave_masked_path\u001b[0m \u001b[0;34m=\u001b[0m \u001b[0mmkdir\u001b[0m\u001b[0;34m(\u001b[0m\u001b[0;34m\"/home/chen/unet/material_msk/\"\u001b[0m\u001b[0;34m,\u001b[0m \u001b[0mseg_case_name\u001b[0m\u001b[0;34m)\u001b[0m\u001b[0;34m\u001b[0m\u001b[0;34m\u001b[0m\u001b[0m\n\u001b[0m\u001b[1;32m     34\u001b[0m \u001b[0;34m\u001b[0m\u001b[0m\n\u001b[1;32m     35\u001b[0m \u001b[0;31m#for i in range(len(masked_man)):\u001b[0m\u001b[0;34m\u001b[0m\u001b[0;34m\u001b[0m\u001b[0;34m\u001b[0m\u001b[0m\n",
      "\u001b[0;32m<ipython-input-56-c2842fe45cae>\u001b[0m in \u001b[0;36mmkdir\u001b[0;34m(super_path, testname)\u001b[0m\n\u001b[1;32m     24\u001b[0m     \u001b[0;32mif\u001b[0m \u001b[0mos\u001b[0m\u001b[0;34m.\u001b[0m\u001b[0mpath\u001b[0m\u001b[0;34m.\u001b[0m\u001b[0mexists\u001b[0m\u001b[0;34m(\u001b[0m\u001b[0mdir_path\u001b[0m\u001b[0;34m)\u001b[0m\u001b[0;34m==\u001b[0m\u001b[0;32mFalse\u001b[0m\u001b[0;34m:\u001b[0m\u001b[0;34m\u001b[0m\u001b[0;34m\u001b[0m\u001b[0m\n\u001b[1;32m     25\u001b[0m         \u001b[0mprint\u001b[0m\u001b[0;34m(\u001b[0m\u001b[0;34m\"making new directory {}...\"\u001b[0m\u001b[0;34m.\u001b[0m\u001b[0mformat\u001b[0m\u001b[0;34m(\u001b[0m\u001b[0mdir_path\u001b[0m\u001b[0;34m)\u001b[0m\u001b[0;34m)\u001b[0m\u001b[0;34m\u001b[0m\u001b[0;34m\u001b[0m\u001b[0m\n\u001b[0;32m---> 26\u001b[0;31m         \u001b[0mos\u001b[0m\u001b[0;34m.\u001b[0m\u001b[0mmkdir\u001b[0m\u001b[0;34m(\u001b[0m\u001b[0mdir_path\u001b[0m\u001b[0;34m)\u001b[0m\u001b[0;34m\u001b[0m\u001b[0;34m\u001b[0m\u001b[0m\n\u001b[0m\u001b[1;32m     27\u001b[0m     \u001b[0;32melse\u001b[0m\u001b[0;34m:\u001b[0m\u001b[0;34m\u001b[0m\u001b[0;34m\u001b[0m\u001b[0m\n\u001b[1;32m     28\u001b[0m         \u001b[0mprint\u001b[0m\u001b[0;34m(\u001b[0m\u001b[0;34m\"generating in directory {}...\"\u001b[0m\u001b[0;34m.\u001b[0m\u001b[0mformat\u001b[0m\u001b[0;34m(\u001b[0m\u001b[0mdir_path\u001b[0m\u001b[0;34m)\u001b[0m\u001b[0;34m)\u001b[0m\u001b[0;34m\u001b[0m\u001b[0;34m\u001b[0m\u001b[0m\n",
      "\u001b[0;31mPermissionError\u001b[0m: [Errno 13] Permission denied: '/home/chen/unet/material_msk/mcs1_post/'"
     ]
    }
   ],
   "source": [
    "partition = 16\n",
    "\n",
    "c = 1\n",
    "c_cube = 0\n",
    "cube_idx = []\n",
    "masked_raw= np.zeros_like(seg_img)\n",
    "\n",
    "\n",
    "for x in range(0,seg_img.shape[1],partition):\n",
    "    for y in range(0,seg_img.shape[2],partition):\n",
    "        for z in range(0,seg_img.shape[0],partition):\n",
    "            cube = seg_img[x:x+partition,y:y+partition,z:z+partition]\n",
    "            if np.any(cube!=0):\n",
    "                cube_idx.append([x,y,z])\n",
    "                c_cube = c_cube + 1\n",
    "            c = c+ 1\n",
    "print (\"There are {} cubes in total but only {} of them contain arteries, in seg_img(target)\".format(c,c_cube))\n",
    "\n",
    "for idx in cube_idx:\n",
    "    x,y,z = idx[0],idx[1],idx[2]\n",
    "    masked_raw[x:x+partition,y:y+partition,z:z+partition] = raw_img[x:x+partition,y:y+partition,z:z+partition]\n",
    "\n",
    "save_masked_path = mkdir(\"/home/chen/unet/material_msk/\", seg_case_name)\n",
    "\n",
    "for i in range(len(masked_man)):\n",
    "    img_id = \"z{:0=4}.bmp\".format(init_img+i)\n",
    "    man_vm =np.zeros((512,512,3))\n",
    "    man_vm[:,:,2] = (masked_man[i,:,:]>0)*255\n",
    "    cv2.imwrite(save_masked_path + img_id, man_vm)"
   ]
  },
  {
   "cell_type": "code",
   "execution_count": 50,
   "metadata": {},
   "outputs": [
    {
     "data": {
      "image/png": "[encoded data removed]",
      "text/plain": [
       "<Figure size 432x288 with 2 Axes>"
      ]
     },
     "metadata": {
      "needs_background": "light"
     },
     "output_type": "display_data"
    }
   ],
   "source": []
  },
  {
   "cell_type": "code",
   "execution_count": 59,
   "metadata": {},
   "outputs": [
    {
     "data": {
      "image/png": "[encoded data removed]",
      "text/plain": [
       "<Figure size 432x288 with 2 Axes>"
      ]
     },
     "metadata": {
      "needs_background": "light"
     },
     "output_type": "display_data"
    }
   ],
   "source": []
  },
  {
   "cell_type": "code",
   "execution_count": null,
   "metadata": {},
   "outputs": [],
   "source": []
  }
 ],
 "metadata": {
  "kernelspec": {
   "display_name": "Python 3",
   "language": "python",
   "name": "python3"
  },
  "language_info": {
   "codemirror_mode": {
    "name": "ipython",
    "version": 3
   },
   "file_extension": ".py",
   "mimetype": "text/x-python",
   "name": "python",
   "nbconvert_exporter": "python",
   "pygments_lexer": "ipython3",
   "version": "3.6.8"
  }
 },
 "nbformat": 4,
 "nbformat_minor": 4
}
