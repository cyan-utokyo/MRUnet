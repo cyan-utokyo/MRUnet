{
 "cells": [
  {
   "cell_type": "code",
   "execution_count": 26,
   "metadata": {},
   "outputs": [
    {
     "name": "stdout",
     "output_type": "stream",
     "text": [
      "/home/chen/unet/\n"
     ]
    },
    {
     "data": {
      "text/plain": [
       "'for i in range(len(train_list)):\\n    logs_path = glob.glob(train_list[i]+\"log_*.log\")\\n    logs_path = sorted(logs_path)\\n    dfs = []\\n    for log_path in logs_path:\\n        df = pd.read_csv(log_path)\\n        df.set_index([\"epoch\"], inplace=True)\\n        df.dropna(axis=1,how=\\'any\\')\\n        print (log_path)\\n        print (df.head(5))\\n        print (\"=-\"*10)\\n        dfs.append(df)\\n    DF = pd.concat(dfs)\\n    print (DF.head(5))\\n    DF.to_csv(train_list[i]+\"totallog.log\")'"
      ]
     },
     "execution_count": 26,
     "metadata": {},
     "output_type": "execute_result"
    }
   ],
   "source": [
    "import numpy as np\n",
    "import cv2\n",
    "import glob\n",
    "import os\n",
    "import pandas as pd\n",
    "import matplotlib.pyplot as plt\n",
    "import seaborn as sns\n",
    "import math\n",
    "train_cl = \"#f781bf\"\n",
    "valid_cl = '#4daf4a'\n",
    "\n",
    "\n",
    "sns.set_style('whitegrid')\n",
    "\n",
    "\n",
    "rootpath = os.getcwd()[:-4]\n",
    "print (rootpath) #/home/chen/u-net/\n",
    "t_list = glob.glob(rootpath+\"2020*/\")\n",
    "#t_list = glob.glob(rootpath+\"ct*/\")\n",
    "#t_list.extend(glob.glob(rootpath+\"2020*/\"))\n",
    "t_list =sorted(t_list)\n",
    "\n",
    "train_list = []\n",
    "for i in range(len(t_list)):\n",
    "    if len(glob.glob(t_list[i]+\"*.hdf5\")) != 0:\n",
    "    #if len(glob.glob(t_list[i]+\"*.log\")) != 0:\n",
    "        train_list.append(t_list[i])\n",
    "    else: print (t_list[i])\n",
    "#print (train_list)\n",
    "        \n",
    "\"\"\"for i in range(len(train_list)):\n",
    "    logs_path = glob.glob(train_list[i]+\"log_*.log\")\n",
    "    logs_path = sorted(logs_path)\n",
    "    dfs = []\n",
    "    for log_path in logs_path:\n",
    "        df = pd.read_csv(log_path)\n",
    "        df.set_index([\"epoch\"], inplace=True)\n",
    "        df.dropna(axis=1,how='any')\n",
    "        print (log_path)\n",
    "        print (df.head(5))\n",
    "        print (\"=-\"*10)\n",
    "        dfs.append(df)\n",
    "    DF = pd.concat(dfs)\n",
    "    print (DF.head(5))\n",
    "    DF.to_csv(train_list[i]+\"totallog.log\")\"\"\""
   ]
  },
  {
   "cell_type": "raw",
   "metadata": {},
   "source": [
    "meyasu = math.ceil(len(train_list)/4)\n",
    "\n",
    "fig, axes = plt.subplots(math.ceil(len(train_list)/4),4, figsize=(16,meyasu*3))\n",
    "\n",
    "for m in range(math.ceil(len(train_list)/4)):\n",
    "    for n in range(4):\n",
    "        i = m*4+n   \n",
    "\n",
    "        try:\n",
    "            train_dir_name = train_list[i].replace(rootpath,' ')\n",
    "            #print (\"1\",train_dir_name)\n",
    "            train_dir_name = train_dir_name.replace('/',' ')\n",
    "            #print (\"2\",train_dir_name)\n",
    "            logs = glob.glob(train_list[i]+ \"log_*.log\")\n",
    "            #logs = glob.glob(train_list[i]+ \"totallog.log\")\n",
    "            #print (\"there are {} logs.\".format(len(logs)))\n",
    "            logs = sorted(logs)\n",
    "            df = pd.read_csv(logs[-1])  \n",
    "            #print (\"analysing case in\", train_list[i])\n",
    "        except IndexError:\n",
    "            break\n",
    "        \n",
    "\n",
    "        #ax1= fig2.add_subplot(1,2,1)\n",
    "        #axex[m][n]= fig2.add_subplot(1,1,1)\n",
    "        axes[m][n].plot(range(len(df.dice_coef)),df.dice_coef,label=\"Training\",color=train_cl)\n",
    "        axes[m][n].plot(range(len(df.val_dice_coef)),df.val_dice_coef,label=\"Validation\",color=valid_cl)\n",
    "        axes[m][n].set_xlabel(\"epoch\")\n",
    "        axes[m][n].set_ylabel(\"DC\")\n",
    "        axes[m][n].set_ylim(0,1)\n",
    "        #axes[m][n].legend()\n",
    "        print (train_list[i],max(df.val_dice_coef))\n",
    "    \n",
    "        axes[m][n].title.set_text(train_dir_name)\n",
    "fig.set_tight_layout(True)\n",
    "plt.show()"
   ]
  },
  {
   "cell_type": "code",
   "execution_count": null,
   "metadata": {},
   "outputs": [],
   "source": [
    "case_4bloc = \"2020-05-16-23-35\"\n",
    "case_3bloc = \"2020-05-15-11-34\"\n",
    "case_3bloc_single_conv = \"2020-05-16-11-50\""
   ]
  },
  {
   "cell_type": "code",
   "execution_count": null,
   "metadata": {},
   "outputs": [],
   "source": []
  },
  {
   "cell_type": "code",
   "execution_count": null,
   "metadata": {},
   "outputs": [],
   "source": []
  },
  {
   "cell_type": "code",
   "execution_count": 9,
   "metadata": {},
   "outputs": [
    {
     "name": "stdout",
     "output_type": "stream",
     "text": [
      "/home/chen/unet/2020-05-13-10-24/\n"
     ]
    }
   ],
   "source": [
    "print (train_list[4])"
   ]
  },
  {
   "cell_type": "code",
   "execution_count": null,
   "metadata": {},
   "outputs": [],
   "source": []
  }
 ],
 "metadata": {
  "kernelspec": {
   "display_name": "Python 3",
   "language": "python",
   "name": "python3"
  },
  "language_info": {
   "codemirror_mode": {
    "name": "ipython",
    "version": 3
   },
   "file_extension": ".py",
   "mimetype": "text/x-python",
   "name": "python",
   "nbconvert_exporter": "python",
   "pygments_lexer": "ipython3",
   "version": "3.6.8"
  }
 },
 "nbformat": 4,
 "nbformat_minor": 2
}
