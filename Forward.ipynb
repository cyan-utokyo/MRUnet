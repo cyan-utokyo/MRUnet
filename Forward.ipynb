{
 "cells": [
  {
   "cell_type": "code",
   "execution_count": 1,
   "metadata": {},
   "outputs": [
    {
     "name": "stderr",
     "output_type": "stream",
     "text": [
      "Using TensorFlow backend.\n"
     ]
    }
   ],
   "source": [
    "from __future__ import print_function\n",
    "import numpy as np\n",
    "import os\n",
    "import glob\n",
    "import cv2\n",
    "from make_512_dataset import *\n",
    "from att_unet import *\n",
    "from ori_unet import *\n",
    "from skimage.io import imsave\n",
    "from skimage.color import gray2rgb\n",
    "from skimage import exposure\n",
    "from skimage.morphology import disk\n",
    "from skimage.filters import rank\n",
    "from skimage.color import rgb2gray, rgb2hsv, label2rgb\n",
    "import datetime\n",
    "import json\n",
    "import warnings\n",
    "import argparse\n",
    "from ori_unet import *\n",
    "import json\n",
    "\n",
    "img_size=512\n",
    "start_neurons=32\n",
    "k_size=3\n",
    "LR=1e-5\n",
    "\n",
    "def dice_coef_np(y_true, y_pred):\n",
    "    y_true_f = y_true.flatten()\n",
    "    y_pred_f = y_pred.flatten()\n",
    "    intersection = np.sum(y_true_f * y_pred_f)\n",
    "    return (2. * intersection + 1.) / (np.sum(y_true_f*y_true_f) + np.sum(y_pred_f*y_pred_f) + 1.)"
   ]
  },
  {
   "cell_type": "code",
   "execution_count": 2,
   "metadata": {},
   "outputs": [
    {
     "name": "stdout",
     "output_type": "stream",
     "text": [
      "make non-TRANSFER-ed images\n",
      "4blocks unet\n"
     ]
    },
    {
     "name": "stderr",
     "output_type": "stream",
     "text": [
      "/home/chen/u-net/2020-06-03-20-20/unet/ori_unet.py:292: UserWarning: Update your `Model` call to the Keras 2 API: `Model(outputs=Tensor(\"co..., inputs=Tensor(\"in...)`\n",
      "  model = Model(input=inputs, output=output_layer)\n"
     ]
    },
    {
     "name": "stdout",
     "output_type": "stream",
     "text": [
      "/home/chen/u-net/2020-06-03-20-20/\n"
     ]
    }
   ],
   "source": [
    "TF=0\n",
    "\n",
    "if TF == 1:\n",
    "    model_name = 'transfer.hdf5'\n",
    "    transfer_dir = os.getcwd()[:-4]+\"transfer_2020-06-04-18-00/\"\n",
    "    print (\"make TRANSFER-ed images\")\n",
    "elif TF == 0:\n",
    "    model_name = 'unet.hdf5'\n",
    "    transfer_dir = os.getcwd()[:-4]\n",
    "    print (\"make non-TRANSFER-ed images\")\n",
    "\n",
    "model = get_unet_4block(img_size=img_size, start_neurons = start_neurons, k_size=k_size, learning_rate = LR)\n",
    "model.load_weights(transfer_dir+model_name)\n",
    "print (transfer_dir)"
   ]
  },
  {
   "cell_type": "code",
   "execution_count": 3,
   "metadata": {},
   "outputs": [
    {
     "name": "stdout",
     "output_type": "stream",
     "text": [
      "['/home/chen/material/CT_test/CAS2_pre/', '/home/chen/material/CT_test/mcs1_post/', '/home/chen/material/CT_test/CEA9_preope_CTA/']\n"
     ]
    }
   ],
   "source": [
    "if (os.uname()[1])=='chen-zz':\n",
    "    root_dir = \"/home/chen/material/\"\n",
    "    test_dir_path =\"/home/chen/u-net/\"\n",
    "else:\n",
    "    #print (os.uname()[1],\" is hostname.\")\n",
    "    root_dir =\"/workspace/unet/materials/\"\n",
    "    test_dir_path =\"/workspace/unet/\"\n",
    "test_path = root_dir+\"CT_test/\"\n",
    "test_case_list = glob.glob(test_path+\"*/\")\n",
    "print (test_case_list)\n",
    "raw_all_test,seg_all_test=get_img_list(test_case_list)\n",
    "\n"
   ]
  },
  {
   "cell_type": "code",
   "execution_count": null,
   "metadata": {},
   "outputs": [],
   "source": [
    "\n",
    "results = []\n",
    "\n",
    "for i in range(len(raw_all_test)):\n",
    "    filename = raw_all_test[i]\n",
    "    \n",
    "    case_name=filename.split('/')[5]\n",
    "    img_name=filename.split('/')[-1]\n",
    "    save_path = mkdir(transfer_dir, case_name)\n",
    "    \n",
    "    in_img = read_a_ct(raw_all_test[i],\"raw\")/255.\n",
    "    in_mask = read_a_ct(seg_all_test[i],\"segmentation\")\n",
    "    in_mask=in_mask[np.newaxis,:,:,np.newaxis]\n",
    "    local_results = []\n",
    "    local_scores = []\n",
    "    for j in range(5):\n",
    "        gamma = np.random.rand()*2.5\n",
    "        disk_num = np.random.randint(15,25)\n",
    "        selem = disk(disk_num)\n",
    "        in_img_gamma = exposure.adjust_gamma(in_img, gamma)\n",
    "        in_img_gamma_eq = rank.equalize(in_img_gamma, selem=selem)\n",
    "        in_img_gamma_eq=in_img_gamma_eq[np.newaxis,:,:,np.newaxis]\n",
    "        result = model.predict(in_img_gamma_eq)\n",
    "        score = model.evaluate(in_img_gamma_eq, in_mask)\n",
    "        local_results.append(result)\n",
    "        local_scores.append(score)\n",
    "        #print (i,gamma,disk_num,score)\n",
    "    max_score_idx = local_scores.index(max(local_scores))\n",
    "    result = local_results[max_score_idx]\n",
    "    \n",
    "    DCs=[]\n",
    "    results_threshold=[]\n",
    "    for j in np.linspace(0,0.9,10):\n",
    "        result_threshold = result>j\n",
    "        DCs.append(dice_coef_np(result_threshold, in_mask))\n",
    "        results_threshold.append(result_threshold)\n",
    "    max_DC = DCs.index(max(DCs))\n",
    "    result = results_threshold[max_DC]\n",
    "    \n",
    "    red_img = np.zeros((512,512,3))\n",
    "    red_img[:,:,2] = result[0,:,:,0]*255\n",
    "    cv2.imwrite(save_path+img_name, red_img)\n",
    "    \n",
    "    \n",
    "    #\n",
    "    results.append(result)"
   ]
  },
  {
   "cell_type": "code",
   "execution_count": null,
   "metadata": {},
   "outputs": [],
   "source": [
    "results= np.array(results)\n",
    "print (results.shape)"
   ]
  },
  {
   "cell_type": "code",
   "execution_count": null,
   "metadata": {},
   "outputs": [],
   "source": [
    "case_path = \"mcs1_post/\"\n",
    "image_path = \"z0503.bmp\"\n",
    "\n",
    "print (test_path+\"segmentation/\"+image_path)\n",
    "print (transfer_dir+case_path+image_path)\n",
    "plt.imshow(cv2.imread(transfer_dir+case_path+image_path))\n",
    "plt.show()\n",
    "plt.imshow(cv2.imread(test_path+case_path+\"segmentation/\"+image_path))\n",
    "plt.show()\n"
   ]
  },
  {
   "cell_type": "code",
   "execution_count": 18,
   "metadata": {},
   "outputs": [],
   "source": [
    "case_path = \"mcs1_post/\"#mcs1_post/, #CEA9_preope_CTA/\n",
    "imgs_res_path = glob.glob(transfer_dir+case_path+\"*.bmp\")\n",
    "imgs_res_path = sorted(imgs_res_path)\n",
    "\n",
    "imgs_tar_path = glob.glob(test_path+case_path+\"segmentation/\"+\"*.bmp\")\n",
    "imgs_tar_path = sorted(imgs_tar_path)\n",
    "imgs_res = []\n",
    "imgs_tar =[]\n",
    "for img_res_path,img_tar_path in zip(imgs_res_path,imgs_tar_path):\n",
    "    img_res = read_a_ct(img_res_path,\"segmentation\")\n",
    "    img_tar = read_a_ct(img_tar_path,\"segmentation\")\n",
    "    imgs_tar.append(img_tar)\n",
    "    imgs_res.append(img_res)\n",
    "imgs_res_ori = np.array(imgs_res)\n",
    "imgs_tar = np.array(imgs_tar)"
   ]
  },
  {
   "cell_type": "code",
   "execution_count": null,
   "metadata": {},
   "outputs": [
    {
     "name": "stderr",
     "output_type": "stream",
     "text": [
      "\n",
      "  0%|          | 0/512 [00:00<?, ?it/s]\u001b[A"
     ]
    },
    {
     "name": "stdout",
     "output_type": "stream",
     "text": [
      "(383, 512, 512)\n"
     ]
    },
    {
     "name": "stderr",
     "output_type": "stream",
     "text": [
      "\n",
      "  0%|          | 1/512 [00:02<24:05,  2.83s/it]\u001b[A\n",
      "  0%|          | 2/512 [00:05<23:39,  2.78s/it]\u001b[A\n",
      "  1%|          | 3/512 [00:08<23:20,  2.75s/it]\u001b[A\n",
      "  1%|          | 4/512 [00:10<23:06,  2.73s/it]\u001b[A\n",
      "  1%|          | 5/512 [00:13<23:06,  2.73s/it]\u001b[A\n",
      "  1%|          | 6/512 [00:16<23:06,  2.74s/it]\u001b[A\n",
      "  1%|▏         | 7/512 [00:19<23:47,  2.83s/it]\u001b[A\n",
      "  2%|▏         | 8/512 [00:22<23:33,  2.80s/it]\u001b[A\n",
      "  2%|▏         | 9/512 [00:24<23:23,  2.79s/it]\u001b[A\n",
      "  2%|▏         | 10/512 [00:27<23:45,  2.84s/it]\u001b[A\n",
      "  2%|▏         | 11/512 [00:30<23:56,  2.87s/it]\u001b[A\n",
      "  2%|▏         | 12/512 [00:33<23:35,  2.83s/it]\u001b[A\n",
      "  3%|▎         | 13/512 [00:36<22:49,  2.75s/it]\u001b[A\n",
      "  3%|▎         | 14/512 [00:38<22:17,  2.69s/it]\u001b[A\n",
      "  3%|▎         | 15/512 [00:41<21:50,  2.64s/it]\u001b[A\n",
      "  3%|▎         | 16/512 [00:43<21:33,  2.61s/it]\u001b[A\n",
      "  3%|▎         | 17/512 [00:46<21:21,  2.59s/it]\u001b[A\n",
      "  4%|▎         | 18/512 [00:48<21:12,  2.58s/it]\u001b[A\n",
      "  4%|▎         | 19/512 [00:51<21:06,  2.57s/it]\u001b[A\n",
      "  4%|▍         | 20/512 [00:53<21:00,  2.56s/it]\u001b[A\n",
      "  4%|▍         | 21/512 [00:56<21:15,  2.60s/it]\u001b[A\n",
      "  4%|▍         | 22/512 [00:59<21:24,  2.62s/it]\u001b[A\n",
      "  4%|▍         | 23/512 [01:01<21:30,  2.64s/it]\u001b[A\n",
      "  5%|▍         | 24/512 [01:04<21:56,  2.70s/it]\u001b[A\n",
      "  5%|▍         | 25/512 [01:07<21:50,  2.69s/it]\u001b[A\n",
      "  5%|▌         | 26/512 [01:10<21:47,  2.69s/it]\u001b[A\n",
      "  5%|▌         | 27/512 [01:12<21:40,  2.68s/it]\u001b[A\n",
      "  5%|▌         | 28/512 [01:15<21:30,  2.67s/it]\u001b[A\n",
      "  6%|▌         | 29/512 [01:18<21:27,  2.67s/it]\u001b[A\n",
      "  6%|▌         | 30/512 [01:20<21:25,  2.67s/it]\u001b[A\n",
      "  6%|▌         | 31/512 [01:23<21:24,  2.67s/it]\u001b[A\n",
      "  6%|▋         | 32/512 [01:26<21:21,  2.67s/it]\u001b[A\n",
      "  6%|▋         | 33/512 [01:28<21:18,  2.67s/it]\u001b[A\n",
      "  7%|▋         | 34/512 [01:31<21:14,  2.67s/it]\u001b[A\n",
      "  7%|▋         | 35/512 [01:34<21:12,  2.67s/it]\u001b[A\n",
      "  7%|▋         | 36/512 [01:36<21:09,  2.67s/it]\u001b[A\n",
      "  7%|▋         | 37/512 [01:39<21:29,  2.71s/it]\u001b[A\n",
      "  7%|▋         | 38/512 [01:42<21:42,  2.75s/it]\u001b[A\n",
      "  8%|▊         | 39/512 [01:45<21:50,  2.77s/it]\u001b[A\n",
      "  8%|▊         | 40/512 [01:48<21:53,  2.78s/it]\u001b[A\n",
      "  8%|▊         | 41/512 [01:51<22:44,  2.90s/it]\u001b[A\n",
      "  8%|▊         | 42/512 [01:54<22:30,  2.87s/it]\u001b[A\n",
      "  8%|▊         | 43/512 [01:56<22:19,  2.86s/it]\u001b[A\n",
      "  9%|▊         | 44/512 [01:59<22:13,  2.85s/it]\u001b[A\n",
      "  9%|▉         | 45/512 [02:02<21:27,  2.76s/it]\u001b[A\n",
      "  9%|▉         | 46/512 [02:04<20:55,  2.69s/it]\u001b[A\n",
      "  9%|▉         | 47/512 [02:07<20:32,  2.65s/it]\u001b[A\n",
      "  9%|▉         | 48/512 [02:09<20:14,  2.62s/it]\u001b[A\n",
      " 10%|▉         | 49/512 [02:12<19:58,  2.59s/it]\u001b[A\n",
      " 10%|▉         | 50/512 [02:14<19:49,  2.57s/it]\u001b[A\n",
      " 10%|▉         | 51/512 [02:17<19:42,  2.56s/it]\u001b[A\n",
      " 10%|█         | 52/512 [02:20<19:51,  2.59s/it]\u001b[A\n",
      " 10%|█         | 53/512 [02:22<19:59,  2.61s/it]\u001b[A\n",
      " 11%|█         | 54/512 [02:25<20:05,  2.63s/it]\u001b[A\n",
      " 11%|█         | 55/512 [02:28<20:23,  2.68s/it]\u001b[A\n",
      " 11%|█         | 56/512 [02:30<20:21,  2.68s/it]\u001b[A\n",
      " 11%|█         | 57/512 [02:33<20:17,  2.68s/it]\u001b[A\n",
      " 11%|█▏        | 58/512 [02:36<20:23,  2.69s/it]\u001b[A\n",
      " 12%|█▏        | 59/512 [02:39<20:28,  2.71s/it]\u001b[A\n",
      " 12%|█▏        | 60/512 [02:41<20:11,  2.68s/it]\u001b[A\n",
      " 12%|█▏        | 61/512 [02:44<19:59,  2.66s/it]\u001b[A\n",
      " 12%|█▏        | 62/512 [02:46<19:49,  2.64s/it]\u001b[A"
     ]
    }
   ],
   "source": [
    "from copy import copy\n",
    "from skimage import morphology\n",
    "from tqdm import tqdm\n",
    "imgs_res = copy(imgs_res_ori)\n",
    "\n",
    "print (imgs_res.shape)\n",
    "\n",
    "img_mor = []\n",
    "\n",
    "# 双方向online更新扩张/收缩, 或3D扩张收缩\n",
    "\n",
    "d0 = 30\n",
    "d1 = 30\n",
    "d2 = 3\n",
    "\n",
    "for i in tqdm(range(imgs_res.shape[1])):\n",
    "    imgs_res[:,i,:] = morphology.binary_dilation(imgs_res[:,i,:], morphology.diamond(d0)).astype(np.uint8)\n",
    "    imgs_res[:,i,:] = morphology.binary_erosion(imgs_res[:,i,:], morphology.diamond(d0)).astype(np.uint8)\n",
    "    imgs_res[:,:,i] = morphology.binary_dilation(imgs_res[:,:,i], morphology.diamond(d1)).astype(np.uint8)\n",
    "    imgs_res[:,:,i] = morphology.binary_erosion(imgs_res[:,:,i], morphology.diamond(d1)).astype(np.uint8)\n",
    "    for _ in range(3):\n",
    "        imgs_res[:,:,i] = morphology.binary_erosion(imgs_res[:,:,i], morphology.diamond(d2)).astype(np.uint8)\n",
    "        imgs_res[:,:,i] = morphology.binary_dilation(imgs_res[:,:,i], morphology.diamond(d2)).astype(np.uint8)\n",
    "\n"
   ]
  },
  {
   "cell_type": "code",
   "execution_count": null,
   "metadata": {},
   "outputs": [],
   "source": [
    "# marching cubes + denoise + hausdorff comparison.\n",
    "from skimage import measure\n",
    "import matplotlib.pyplot as plt\n",
    "import numpy as np\n",
    "from mpl_toolkits.mplot3d import Axes3D\n",
    "from mpl_toolkits.mplot3d.art3d import Poly3DCollection\n",
    "\n",
    "\n",
    "imgs_res_ori_2 = imgs_res_ori.transpose(2,1,0)\n",
    "imgs_res_2 = imgs_res.transpose(2,1,0)\n",
    "imgs_tar_2 = imgs_tar.transpose(2,1,0)\n",
    "\n",
    "verts_tar, faces_tar, normals_tar, values_tar = measure.marching_cubes_lewiner(imgs_tar_2, 0)\n",
    "mesh_tar = Poly3DCollection(verts_tar[faces_tar])\n",
    "mesh_tar.set_edgecolor('lightgreen')\n",
    "mesh_tar.set_facecolor('darkgreen')\n",
    "\n",
    "verts_mor, faces_mor, normals_mor, values_mor = measure.marching_cubes_lewiner(imgs_res_2, 0)\n",
    "mesh_mor = Poly3DCollection(verts_mor[faces_mor])\n",
    "\n",
    "verts_ori, faces_ori, normals_ori, values_ori = measure.marching_cubes_lewiner(imgs_res_ori_2, 0)\n",
    "mesh_ori = Poly3DCollection(verts_ori[faces_ori])\n",
    "\n",
    "\n",
    "fig = plt.figure(figsize=(16, 10))\n",
    "ax = fig.add_subplot(131, projection='3d')\n",
    "#mesh_tar.set_edgecolor('k')\n",
    "ax.add_collection3d(mesh_tar)\n",
    "ax.set_xlabel(\"x-axis\")\n",
    "ax.set_ylabel(\"y-axis\")\n",
    "ax.set_zlabel(\"z-axis\")\n",
    "ax.set_xlim(75, 400)  \n",
    "ax.set_ylim(50, 300)  \n",
    "ax.set_zlim(0, 500)  \n",
    "ax.view_init(elev=10, azim=60)\n",
    "\n",
    "ax2 = fig.add_subplot(132, projection='3d')\n",
    "#mesh_mor.set_edgecolor('k')\n",
    "ax2.add_collection3d(mesh_mor)\n",
    "ax2.set_xlabel(\"x-axis\")\n",
    "ax2.set_ylabel(\"y-axis\")\n",
    "ax2.set_zlabel(\"z-axis\")\n",
    "ax2.set_xlim(75, 400)  \n",
    "ax2.set_ylim(50, 300)  \n",
    "ax2.set_zlim(0, 500)  \n",
    "ax2.view_init(elev=10, azim=60)\n",
    "\n",
    "ax3 = fig.add_subplot(133, projection='3d')\n",
    "#mesh_mor.set_edgecolor('k')\n",
    "ax3.add_collection3d(mesh_ori)\n",
    "ax3.set_xlabel(\"x-axis\")\n",
    "ax3.set_ylabel(\"y-axis\")\n",
    "ax3.set_zlabel(\"z-axis\")\n",
    "ax3.set_xlim(75, 400)  \n",
    "ax3.set_ylim(50, 300)  \n",
    "ax3.set_zlim(0, 500)  \n",
    "ax3.view_init(elev=10, azim=60)\n",
    "\n",
    "plt.tight_layout()\n",
    "plt.show()"
   ]
  },
  {
   "cell_type": "code",
   "execution_count": null,
   "metadata": {},
   "outputs": [],
   "source": [
    "print (dice_coef_np(imgs_tar_2,imgs_res_ori.transpose(2,1,0)))\n",
    "\n",
    "print (dice_coef_np(imgs_tar_2,imgs_res_2))\n"
   ]
  },
  {
   "cell_type": "code",
   "execution_count": null,
   "metadata": {},
   "outputs": [],
   "source": [
    "\n"
   ]
  },
  {
   "cell_type": "code",
   "execution_count": null,
   "metadata": {},
   "outputs": [],
   "source": []
  }
 ],
 "metadata": {
  "kernelspec": {
   "display_name": "Python 3",
   "language": "python",
   "name": "python3"
  },
  "language_info": {
   "codemirror_mode": {
    "name": "ipython",
    "version": 3
   },
   "file_extension": ".py",
   "mimetype": "text/x-python",
   "name": "python",
   "nbconvert_exporter": "python",
   "pygments_lexer": "ipython3",
   "version": "3.5.2"
  }
 },
 "nbformat": 4,
 "nbformat_minor": 2
}
